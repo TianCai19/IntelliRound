{
 "cells": [
  {
   "cell_type": "markdown",
   "id": "b75c96fc-e399-4f81-bcf8-8a5d15bcb79b",
   "metadata": {},
   "source": [
    "# Conversation with Agent"
   ]
  },
  {
   "cell_type": "markdown",
   "id": "25d30c19de76e93f",
   "metadata": {
    "collapsed": false
   },
   "source": [
    "In this notebook, we will show a demo of how to program a multi-agent conversation in AgentScope. The complete codes can be found in `examples/conversation/conversation.py`, which sets up a user agent and an assistant agent to have a conversation. When user input \"exit\", the conversation ends. You can modify the `sys_prompt` to change the role of assistant agent."
   ]
  },
  {
   "cell_type": "markdown",
   "id": "5f8b1a15-cf1a-46ff-8a62-88d7476c8608",
   "metadata": {},
   "source": [
    "To install AgentScope, please follow the steps in [README.md](../README.md#installation)."
   ]
  },
  {
   "cell_type": "markdown",
   "id": "4ccebee3-9a27-47d9-9133-40126b888593",
   "metadata": {},
   "source": [
    "First, set the configs of the models you use."
   ]
  },
  {
   "cell_type": "code",
   "execution_count": 12,
   "id": "c60227f7-7380-4f72-b653-bc7394cfaace",
   "metadata": {},
   "outputs": [
    {
     "data": {
      "text/plain": [
       "[]"
      ]
     },
     "execution_count": 12,
     "metadata": {},
     "output_type": "execute_result"
    }
   ],
   "source": [
    "import agentscope\n",
    "from agentscope.agents import DialogAgent\n",
    "from agentscope.agents import UserAgent\n",
    "from agentscope.pipelines.functional import sequentialpipeline\n",
    "\n",
    "agentscope.init(\n",
    "    model_configs='./model_configs.json',\n",
    ")"
   ]
  },
  {
   "cell_type": "markdown",
   "id": "503f7e7a-7a93-468d-b88b-37540f607083",
   "metadata": {},
   "source": [
    "Then, initialize two agents, one is used as an assistant agent, and the other one is a user agent."
   ]
  },
  {
   "cell_type": "code",
   "execution_count": 13,
   "id": "848270c3-b73b-482d-a426-49e0ac67dc39",
   "metadata": {},
   "outputs": [],
   "source": [
    "dialog_agent = DialogAgent(\n",
    "    name=\"Assistant\",\n",
    "    sys_prompt=\"You're a helpful assistant.\",\n",
    "    model_config_name=\"qwen\",  # replace by your model config name\n",
    ")\n",
    "user_agent = UserAgent()"
   ]
  },
  {
   "cell_type": "markdown",
   "id": "128356259909067b",
   "metadata": {
    "collapsed": false
   },
   "source": [
    "Start the conversation between user and assistant. Input \"exit\" to quit."
   ]
  },
  {
   "cell_type": "code",
   "execution_count": 14,
   "id": "e46f7a9d-355b-46cd-86b5-201c91eabffb",
   "metadata": {},
   "outputs": [
    {
     "ename": "RuntimeError",
     "evalue": " Request id: eafc7267-e4be-99e5-9493-70034f3c99f9, Status code: 401, error code: InvalidApiKey, error message: Invalid API-key provided..",
     "output_type": "error",
     "traceback": [
      "\u001b[0;31m---------------------------------------------------------------------------\u001b[0m",
      "\u001b[0;31mRuntimeError\u001b[0m                              Traceback (most recent call last)",
      "Cell \u001b[0;32mIn[14], line 3\u001b[0m\n\u001b[1;32m      1\u001b[0m x \u001b[38;5;241m=\u001b[39m \u001b[38;5;28;01mNone\u001b[39;00m\n\u001b[1;32m      2\u001b[0m \u001b[38;5;28;01mwhile\u001b[39;00m x \u001b[38;5;129;01mis\u001b[39;00m \u001b[38;5;28;01mNone\u001b[39;00m \u001b[38;5;129;01mor\u001b[39;00m x\u001b[38;5;241m.\u001b[39mcontent \u001b[38;5;241m!=\u001b[39m \u001b[38;5;124m\"\u001b[39m\u001b[38;5;124mexit\u001b[39m\u001b[38;5;124m\"\u001b[39m:\n\u001b[0;32m----> 3\u001b[0m     x \u001b[38;5;241m=\u001b[39m \u001b[43mdialog_agent\u001b[49m\u001b[43m(\u001b[49m\u001b[43mx\u001b[49m\u001b[43m)\u001b[49m\n\u001b[1;32m      4\u001b[0m     x \u001b[38;5;241m=\u001b[39m user_agent(x)\n",
      "File \u001b[0;32m~/code/agentscope/src/agentscope/agents/agent.py:117\u001b[0m, in \u001b[0;36mAgentBase.__call__\u001b[0;34m(self, *args, **kwargs)\u001b[0m\n\u001b[1;32m    114\u001b[0m \u001b[38;5;28;01mdef\u001b[39;00m \u001b[38;5;21m__call__\u001b[39m(\u001b[38;5;28mself\u001b[39m, \u001b[38;5;241m*\u001b[39margs: Any, \u001b[38;5;241m*\u001b[39m\u001b[38;5;241m*\u001b[39mkwargs: Any) \u001b[38;5;241m-\u001b[39m\u001b[38;5;241m>\u001b[39m \u001b[38;5;28mdict\u001b[39m:\n\u001b[1;32m    115\u001b[0m \u001b[38;5;250m    \u001b[39m\u001b[38;5;124;03m\"\"\"Calling the reply function, and broadcast the generated\u001b[39;00m\n\u001b[1;32m    116\u001b[0m \u001b[38;5;124;03m    response to all audiences if needed.\"\"\"\u001b[39;00m\n\u001b[0;32m--> 117\u001b[0m     res \u001b[38;5;241m=\u001b[39m \u001b[38;5;28;43mself\u001b[39;49m\u001b[38;5;241;43m.\u001b[39;49m\u001b[43mreply\u001b[49m\u001b[43m(\u001b[49m\u001b[38;5;241;43m*\u001b[39;49m\u001b[43margs\u001b[49m\u001b[43m,\u001b[49m\u001b[43m \u001b[49m\u001b[38;5;241;43m*\u001b[39;49m\u001b[38;5;241;43m*\u001b[39;49m\u001b[43mkwargs\u001b[49m\u001b[43m)\u001b[49m\n\u001b[1;32m    119\u001b[0m     \u001b[38;5;66;03m# broadcast to audiences if needed\u001b[39;00m\n\u001b[1;32m    120\u001b[0m     \u001b[38;5;28;01mif\u001b[39;00m \u001b[38;5;28mself\u001b[39m\u001b[38;5;241m.\u001b[39m_audience \u001b[38;5;129;01mis\u001b[39;00m \u001b[38;5;129;01mnot\u001b[39;00m \u001b[38;5;28;01mNone\u001b[39;00m:\n",
      "File \u001b[0;32m~/code/agentscope/src/agentscope/agents/dialog_agent.py:81\u001b[0m, in \u001b[0;36mDialogAgent.reply\u001b[0;34m(self, x)\u001b[0m\n\u001b[1;32m     75\u001b[0m prompt \u001b[38;5;241m=\u001b[39m \u001b[38;5;28mself\u001b[39m\u001b[38;5;241m.\u001b[39mengine\u001b[38;5;241m.\u001b[39mjoin(\n\u001b[1;32m     76\u001b[0m     \u001b[38;5;28mself\u001b[39m\u001b[38;5;241m.\u001b[39msys_prompt,\n\u001b[1;32m     77\u001b[0m     \u001b[38;5;28mself\u001b[39m\u001b[38;5;241m.\u001b[39mmemory\u001b[38;5;241m.\u001b[39mget_memory(),\n\u001b[1;32m     78\u001b[0m )\n\u001b[1;32m     80\u001b[0m \u001b[38;5;66;03m# call llm and generate response\u001b[39;00m\n\u001b[0;32m---> 81\u001b[0m response \u001b[38;5;241m=\u001b[39m \u001b[38;5;28;43mself\u001b[39;49m\u001b[38;5;241;43m.\u001b[39;49m\u001b[43mmodel\u001b[49m\u001b[43m(\u001b[49m\u001b[43mprompt\u001b[49m\u001b[43m)\u001b[49m\u001b[38;5;241m.\u001b[39mtext\n\u001b[1;32m     82\u001b[0m msg \u001b[38;5;241m=\u001b[39m Msg(\u001b[38;5;28mself\u001b[39m\u001b[38;5;241m.\u001b[39mname, response)\n\u001b[1;32m     84\u001b[0m \u001b[38;5;66;03m# Print/speak the message in this agent's voice\u001b[39;00m\n",
      "File \u001b[0;32m~/code/agentscope/src/agentscope/models/model.py:166\u001b[0m, in \u001b[0;36m_response_parse_decorator.<locals>.checking_wrapper\u001b[0;34m(self, *args, **kwargs)\u001b[0m\n\u001b[1;32m    163\u001b[0m \u001b[38;5;66;03m# Step2: Call the model and parse the response\u001b[39;00m\n\u001b[1;32m    164\u001b[0m \u001b[38;5;66;03m# Return the response directly if parse_func is not provided\u001b[39;00m\n\u001b[1;32m    165\u001b[0m \u001b[38;5;28;01mif\u001b[39;00m parse_func \u001b[38;5;129;01mis\u001b[39;00m \u001b[38;5;28;01mNone\u001b[39;00m:\n\u001b[0;32m--> 166\u001b[0m     \u001b[38;5;28;01mreturn\u001b[39;00m \u001b[43mmodel_call\u001b[49m\u001b[43m(\u001b[49m\u001b[38;5;28;43mself\u001b[39;49m\u001b[43m,\u001b[49m\u001b[43m \u001b[49m\u001b[38;5;241;43m*\u001b[39;49m\u001b[43margs\u001b[49m\u001b[43m,\u001b[49m\u001b[43m \u001b[49m\u001b[38;5;241;43m*\u001b[39;49m\u001b[38;5;241;43m*\u001b[39;49m\u001b[43mkwargs\u001b[49m\u001b[43m)\u001b[49m\n\u001b[1;32m    168\u001b[0m \u001b[38;5;66;03m# Otherwise, try to parse the response\u001b[39;00m\n\u001b[1;32m    169\u001b[0m response \u001b[38;5;241m=\u001b[39m \u001b[38;5;28;01mNone\u001b[39;00m\n",
      "File \u001b[0;32m~/code/agentscope/src/agentscope/models/dashscope_model.py:186\u001b[0m, in \u001b[0;36mDashScopeChatWrapper.__call__\u001b[0;34m(self, messages, **kwargs)\u001b[0m\n\u001b[1;32m    178\u001b[0m \u001b[38;5;28;01mif\u001b[39;00m response\u001b[38;5;241m.\u001b[39mstatus_code \u001b[38;5;241m!=\u001b[39m HTTPStatus\u001b[38;5;241m.\u001b[39mOK:\n\u001b[1;32m    179\u001b[0m     error_msg \u001b[38;5;241m=\u001b[39m (\n\u001b[1;32m    180\u001b[0m         \u001b[38;5;124mf\u001b[39m\u001b[38;5;124m\"\u001b[39m\u001b[38;5;124m Request id: \u001b[39m\u001b[38;5;132;01m{\u001b[39;00mresponse\u001b[38;5;241m.\u001b[39mrequest_id\u001b[38;5;132;01m}\u001b[39;00m\u001b[38;5;124m,\u001b[39m\u001b[38;5;124m\"\u001b[39m\n\u001b[1;32m    181\u001b[0m         \u001b[38;5;124mf\u001b[39m\u001b[38;5;124m\"\u001b[39m\u001b[38;5;124m Status code: \u001b[39m\u001b[38;5;132;01m{\u001b[39;00mresponse\u001b[38;5;241m.\u001b[39mstatus_code\u001b[38;5;132;01m}\u001b[39;00m\u001b[38;5;124m,\u001b[39m\u001b[38;5;124m\"\u001b[39m\n\u001b[1;32m    182\u001b[0m         \u001b[38;5;124mf\u001b[39m\u001b[38;5;124m\"\u001b[39m\u001b[38;5;124m error code: \u001b[39m\u001b[38;5;132;01m{\u001b[39;00mresponse\u001b[38;5;241m.\u001b[39mcode\u001b[38;5;132;01m}\u001b[39;00m\u001b[38;5;124m,\u001b[39m\u001b[38;5;124m\"\u001b[39m\n\u001b[1;32m    183\u001b[0m         \u001b[38;5;124mf\u001b[39m\u001b[38;5;124m\"\u001b[39m\u001b[38;5;124m error message: \u001b[39m\u001b[38;5;132;01m{\u001b[39;00mresponse\u001b[38;5;241m.\u001b[39mmessage\u001b[38;5;132;01m}\u001b[39;00m\u001b[38;5;124m.\u001b[39m\u001b[38;5;124m\"\u001b[39m\n\u001b[1;32m    184\u001b[0m     )\n\u001b[0;32m--> 186\u001b[0m     \u001b[38;5;28;01mraise\u001b[39;00m \u001b[38;5;167;01mRuntimeError\u001b[39;00m(error_msg)\n\u001b[1;32m    188\u001b[0m \u001b[38;5;66;03m# step4: record the api invocation if needed\u001b[39;00m\n\u001b[1;32m    189\u001b[0m \u001b[38;5;28mself\u001b[39m\u001b[38;5;241m.\u001b[39m_save_model_invocation(\n\u001b[1;32m    190\u001b[0m     arguments\u001b[38;5;241m=\u001b[39m{\n\u001b[1;32m    191\u001b[0m         \u001b[38;5;124m\"\u001b[39m\u001b[38;5;124mmodel\u001b[39m\u001b[38;5;124m\"\u001b[39m: \u001b[38;5;28mself\u001b[39m\u001b[38;5;241m.\u001b[39mmodel,\n\u001b[0;32m   (...)\u001b[0m\n\u001b[1;32m    195\u001b[0m     response\u001b[38;5;241m=\u001b[39mresponse,\n\u001b[1;32m    196\u001b[0m )\n",
      "\u001b[0;31mRuntimeError\u001b[0m:  Request id: eafc7267-e4be-99e5-9493-70034f3c99f9, Status code: 401, error code: InvalidApiKey, error message: Invalid API-key provided.."
     ]
    }
   ],
   "source": [
    "x = None\n",
    "while x is None or x.content != \"exit\":\n",
    "    x = dialog_agent(x)\n",
    "    x = user_agent(x)"
   ]
  },
  {
   "cell_type": "markdown",
   "id": "adc601a8-144f-4e42-bc86-f0e14adb39b5",
   "metadata": {},
   "source": [
    "To code it easier, you can use pipeline in [`agentscope.pipelines`](https://github.com/modelscope/agentscope/blob/main/src/agentscope/pipelines/pipeline.py) and [`agentscope.pipelines.functional`](https://github.com/modelscope/agentscope/blob/main/src/agentscope/pipelines/functional.py)."
   ]
  },
  {
   "cell_type": "code",
   "execution_count": null,
   "id": "6057d6c5-a332-4949-84a7-6fbeda021561",
   "metadata": {},
   "outputs": [],
   "source": [
    "x = None\n",
    "while x is None or x.content != \"exit\":\n",
    "    x = sequentialpipeline([dialog_agent, user_agent], x)"
   ]
  },
  {
   "cell_type": "markdown",
   "id": "aed5ff6a-5167-4450-be57-b42ee8ae5e92",
   "metadata": {},
   "source": [
    "We show the following dialog as an example."
   ]
  },
  {
   "cell_type": "markdown",
   "id": "9cb11109-4229-4faa-a859-9e806d9c2a6f",
   "metadata": {},
   "source": [
    "Assistant: Thank you! I'm here to assist you with any questions or tasks you have. How can I help you today?\n",
    "\n",
    "User:  Please help me arrange a day trip to Hangzhou.\n",
    "\n",
    "Assistant: Certainly! I can help you with that. When are you planning to visit Hangzhou?\n",
    "\n",
    "User:  Tomorrow\n",
    "\n",
    "Assistant: Great! Tomorrow sounds like a good day for a day trip to Hangzhou. Here's a suggested itinerary for your day trip:\n",
    "\n",
    "1. Depart from your current location: It's important to plan your departure time to arrive in Hangzhou early in the morning. You can consider taking a train or bus, or hiring a private driver for the trip.\n",
    "\n",
    "2. West Lake: Start your day by visiting West Lake, which is the heart of Hangzhou. Take a leisurely stroll along the lake and enjoy the beautiful scenery. You can also rent a boat or take a cruise to explore the lake.\n",
    "\n",
    "3. Lingyin Temple: After visiting West Lake, head to Lingyin Temple, one of the most famous Buddhist temples in China. Marvel at the intricate architecture and explore the peaceful surroundings.\n",
    "\n",
    "4. Hefang Street: Next, make your way to Hefang Street, a vibrant pedestrian street filled with shops, street vendors, and traditional food stalls. Take some time to shop for souvenirs or try some local snacks.\n",
    "\n",
    "5. Longjing Tea Plantations: As Hangzhou is renowned for its tea, a visit to the Longjing Tea Plantations is a must. Take a short trip to the outskirts of Hangzhou and immerse yourself in the serene tea fields. You can also participate in a tea ceremony and learn about the tea-making process.\n",
    "\n",
    "6. Return to your starting point: After a full day of exploring Hangzhou, it's time to head back to your starting point. Plan your return journey accordingly, whether it's by train, bus, or with the help of a hired driver.\n",
    "\n",
    "Remember to check the opening hours of the attractions and plan your time accordingly. Also, be prepared for the weather and make sure to bring comfortable shoes, a hat, and sunscreen. Enjoy your day trip to Hangzhou!\n",
    "\n",
    "User:  exit"
   ]
  }
 ],
 "metadata": {
  "kernelspec": {
   "display_name": "Python 3 (ipykernel)",
   "language": "python",
   "name": "python3"
  },
  "language_info": {
   "codemirror_mode": {
    "name": "ipython",
    "version": 3
   },
   "file_extension": ".py",
   "mimetype": "text/x-python",
   "name": "python",
   "nbconvert_exporter": "python",
   "pygments_lexer": "ipython3",
   "version": "3.9.18"
  }
 },
 "nbformat": 4,
 "nbformat_minor": 5
}
